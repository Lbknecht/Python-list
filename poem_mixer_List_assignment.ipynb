#get string input, input like a poem, verse or saying
def word_mixer(word_list):

# sort the original list
    word_list.sort()
# create a new list
    new_list = []
# Loop while the list is longer than 5 words:
    while len(word_list) > 5:

# in each loop pop a word from the sorted original list and append to the new list
# pop the word 5th from the end of the list and append to the new list
# pop the first word in the list and append to the new list
# pop the last word in the list and append to the new list
        word = word_list.pop(-5)
        new_list.append(word)
        word = word_list.pop(0)
        new_list.append(word)
        word = word_list.pop()
        new_list.append(word)

    return (new_list)




in_str= input("Enter a poem, verse or saying ")


#split the string into a list of individual words

# split poem on a space
in_str_words = in_str.split(" ")
#print(in_str_words)

#determine the length of the list
len_word_list = int(len(in_str_words))

for index in range(0,len_word_list):
    if len(in_str_words[index]) <= 3:
# if a word is short (3 letters or less) make the word in the list lowercase
        temp_word = in_str_words[index].lower()
        in_str_words[index] = temp_word
    elif len(in_str_words[index]) >= 7:
# if a word is long (7 letters or more) make the word in the list uppercase
        temp_word = in_str_words[index].upper()
        in_str_words[index] = temp_word

# if word list length contains > 5 words call the word_mixer function else tell user to input a longer poem.
if len_word_list > 5:
    new_word_list = word_mixer(in_str_words)

# print the new modified list
for word in new_word_list:
    print(word, end=' ')

